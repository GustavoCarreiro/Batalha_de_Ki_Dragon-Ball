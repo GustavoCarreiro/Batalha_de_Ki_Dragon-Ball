{
  "nbformat": 4,
  "nbformat_minor": 0,
  "metadata": {
    "colab": {
      "provenance": [],
      "authorship_tag": "ABX9TyM8t30K1LRxMbDC0v2h8D4b",
      "include_colab_link": true
    },
    "kernelspec": {
      "name": "python3",
      "display_name": "Python 3"
    },
    "language_info": {
      "name": "python"
    }
  },
  "cells": [
    {
      "cell_type": "markdown",
      "metadata": {
        "id": "view-in-github",
        "colab_type": "text"
      },
      "source": [
        "<a href=\"https://colab.research.google.com/github/GustavoCarreiro/Batalha_de_Ki_Dragon-Ball/blob/main/Batalha_de_Ki.ipynb\" target=\"_parent\"><img src=\"https://colab.research.google.com/assets/colab-badge.svg\" alt=\"Open In Colab\"/></a>"
      ]
    },
    {
      "cell_type": "code",
      "execution_count": null,
      "metadata": {
        "id": "7ZeuN8wUxlbk"
      },
      "outputs": [],
      "source": [
        "!pip install -q -U google.generativeai"
      ]
    },
    {
      "cell_type": "code",
      "source": [
        "import google.generativeai as genai\n",
        "import requests\n",
        "import random\n",
        "from google.colab import userdata\n",
        "\n",
        "API_KEY = userdata.get('SECRET_KEY').strip()\n",
        "genai.configure(api_key=API_KEY)"
      ],
      "metadata": {
        "id": "eEB-ZEP4y-Yu"
      },
      "execution_count": null,
      "outputs": []
    },
    {
      "cell_type": "code",
      "source": [
        "for modelo in genai.list_models():\n",
        "  if 'generateContent' in modelo.supported_generation_methods:\n",
        "    print(modelo.name)"
      ],
      "metadata": {
        "id": "iu2aZiZt1Thk",
        "colab": {
          "base_uri": "https://localhost:8080/",
          "height": 139
        },
        "outputId": "6a58c013-b00b-482d-9792-84d1243ed300"
      },
      "execution_count": null,
      "outputs": [
        {
          "output_type": "stream",
          "name": "stdout",
          "text": [
            "models/gemini-1.0-pro\n",
            "models/gemini-1.0-pro-001\n",
            "models/gemini-1.0-pro-latest\n",
            "models/gemini-1.0-pro-vision-latest\n",
            "models/gemini-1.5-pro-latest\n",
            "models/gemini-pro\n",
            "models/gemini-pro-vision\n"
          ]
        }
      ]
    },
    {
      "cell_type": "code",
      "source": [
        "generation_config = {\n",
        "  \"temperature\": 1,\n",
        "  \"top_p\": 0.95,\n",
        "  \"top_k\": 0,\n",
        "  \"max_output_tokens\": 8192,\n",
        "}"
      ],
      "metadata": {
        "id": "64aNlN5K1xhd"
      },
      "execution_count": null,
      "outputs": []
    },
    {
      "cell_type": "code",
      "source": [
        "safety_settings = [\n",
        "  {\n",
        "    \"category\": \"HARM_CATEGORY_HARASSMENT\",\n",
        "    \"threshold\": \"BLOCK_MEDIUM_AND_ABOVE\"\n",
        "  },\n",
        "  {\n",
        "    \"category\": \"HARM_CATEGORY_HATE_SPEECH\",\n",
        "    \"threshold\": \"BLOCK_MEDIUM_AND_ABOVE\"\n",
        "  },\n",
        "  {\n",
        "    \"category\": \"HARM_CATEGORY_SEXUALLY_EXPLICIT\",\n",
        "    \"threshold\": \"BLOCK_MEDIUM_AND_ABOVE\"\n",
        "  },\n",
        "  {\n",
        "    \"category\": \"HARM_CATEGORY_DANGEROUS_CONTENT\",\n",
        "    \"threshold\": \"BLOCK_MEDIUM_AND_ABOVE\"\n",
        "  },\n",
        "]"
      ],
      "metadata": {
        "id": "7R2ucTK81-R0"
      },
      "execution_count": null,
      "outputs": []
    },
    {
      "cell_type": "code",
      "source": [
        "model = genai.GenerativeModel(model_name=\"gemini-1.5-pro-latest\",\n",
        "                              generation_config=generation_config,\n",
        "                              safety_settings=safety_settings)"
      ],
      "metadata": {
        "id": "bHT7GfC-2BKL"
      },
      "execution_count": null,
      "outputs": []
    },
    {
      "cell_type": "code",
      "source": [
        "# Função para buscar informações do personagem\n",
        "\n",
        "def buscar_personagem(nome_personagem):\n",
        "    url = f\"https://api.gemini.ai/v1/characters/{nome_personagem}?api_key={API_KEY}\"\n",
        "    response = requests.get(url)\n",
        "\n",
        "    if response.status_code == 200:\n",
        "          data = response.json()\n",
        "          return data\n",
        "    else:\n",
        "        print(f\"Erro ao buscar informações sobre o personagem: {response.status_code}\")\n",
        "        return None"
      ],
      "metadata": {
        "id": "AeQGoDyG2P9D"
      },
      "execution_count": null,
      "outputs": []
    },
    {
      "cell_type": "code",
      "source": [
        "# Função para calcular a força do golpe\n",
        "\n",
        "def calcular_forca_golpe(nivel_Ki):\n",
        "  return random.randint(1, nivel_Ki) * 2"
      ],
      "metadata": {
        "id": "h1TwFA8B4ZgU"
      },
      "execution_count": null,
      "outputs": []
    },
    {
      "cell_type": "code",
      "source": [
        "# Função para realizar um ataque\n",
        "\n",
        "def realizar_ataque(personagem_atacante, personagem_defensor):\n",
        "  forca_golpe = calcular_forca_golpe(personagem_atacante[\"Ki\"])\n",
        "  personagem_defensor[\"Ki\"] = forca_golpe\n",
        "  print(f\"{personagem_atacante['name']} atacou {personagem_defensor['name']} com força {forca_golpe}!\")"
      ],
      "metadata": {
        "id": "MQm_gWBR4yH0"
      },
      "execution_count": null,
      "outputs": []
    },
    {
      "cell_type": "code",
      "source": [
        "# Função para verifcar o vencedor\n",
        "\n",
        "def verificar_vencedor(personagem1, personagem2):\n",
        "  if personagem1[\"Ki\"] <= 0:\n",
        "    print(f\"{personagem2['name']} venceu!\")\n",
        "  elif personagem2[\"Ki\"] <= 0:\n",
        "    print(f\"{personagem1['name']} venceu!\")\n",
        "  else:\n",
        "    print(\"Empate!\")"
      ],
      "metadata": {
        "id": "GcLhp5Fv5At8"
      },
      "execution_count": null,
      "outputs": []
    },
    {
      "cell_type": "code",
      "source": [
        "# Jogo Principal\n",
        "\n",
        "nome_personagem_jogador = input(\"Digite o nome do seu personagem: \")\n",
        "personagem_jogador = buscar_personagem(nome_personagem_jogador)\n",
        "\n",
        "if personagem_jogador:\n",
        "  personagens_disponiveis = buscar_personagem(\"Dragon Ball Z\")[\"characters\"]\n",
        "  personagem_adversario = random.choice(personagens_disponiveis)\n",
        "\n",
        "  while True:\n",
        "    print(f\"Ki do {personagem_jogador['name']}: {personagem_jogador['Ki']}\")\n",
        "    print(f\"Ki do {personagem_adversario['name']}: {personagem_adversario['Ki']}\")\n",
        "\n",
        "    realizar_ataque(personagem_jogador, personagem_adversario)\n",
        "    realizar_ataque(personagem_adversario, personagem_jogador)\n",
        "\n",
        "    verificar_vencedor(personagem_jogador, personagem_adversario)\n",
        "\n",
        "    if personagem_jogador[\"Ki\"] <= 0 or personagem_adversario[\"Ki\"] <= 0:\n",
        "      break\n",
        "    else:\n",
        "      print(\"Personagem não encontrado.\")"
      ],
      "metadata": {
        "id": "yRJ36LODCyk6"
      },
      "execution_count": null,
      "outputs": []
    }
  ]
}